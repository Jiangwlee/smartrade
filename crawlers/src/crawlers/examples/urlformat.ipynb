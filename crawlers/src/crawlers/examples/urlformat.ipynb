{
 "cells": [
  {
   "cell_type": "code",
   "execution_count": 8,
   "metadata": {},
   "outputs": [
    {
     "name": "stdout",
     "output_type": "stream",
     "text": [
      "20240910\n",
      "1725941647.4508514\n",
      "20240910\n"
     ]
    }
   ],
   "source": [
    "from datetime import date, datetime\n",
    "import time\n",
    "\n",
    "print(date.today().strftime(\"%Y%m%d\"))\n",
    "print(time.time())\n",
    "print(datetime.now().strftime(\"%Y%m%d\"))"
   ]
  }
 ],
 "metadata": {
  "kernelspec": {
   "display_name": "crawlers",
   "language": "python",
   "name": "python3"
  },
  "language_info": {
   "codemirror_mode": {
    "name": "ipython",
    "version": 3
   },
   "file_extension": ".py",
   "mimetype": "text/x-python",
   "name": "python",
   "nbconvert_exporter": "python",
   "pygments_lexer": "ipython3",
   "version": "3.12.6"
  }
 },
 "nbformat": 4,
 "nbformat_minor": 2
}
