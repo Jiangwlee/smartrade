{
 "cells": [
  {
   "cell_type": "code",
   "execution_count": 2,
   "metadata": {},
   "outputs": [
    {
     "name": "stdout",
     "output_type": "stream",
     "text": [
      "20240911\n",
      "1726028180.3250597\n",
      "20240911\n",
      "2024-09-10\n"
     ]
    }
   ],
   "source": [
    "from datetime import date, datetime\n",
    "import time\n",
    "\n",
    "print(date.today().strftime(\"%Y%m%d\"))\n",
    "print(time.time())\n",
    "print(datetime.now().strftime(\"%Y%m%d\"))\n",
    "\n",
    "timestamp = '1725933867'\n",
    "dt_object = datetime.fromtimestamp(int(timestamp))\n",
    "print(dt_object.date())"
   ]
  },
  {
   "cell_type": "code",
   "execution_count": null,
   "metadata": {},
   "outputs": [],
   "source": []
  }
 ],
 "metadata": {
  "kernelspec": {
   "display_name": "crawlers",
   "language": "python",
   "name": "python3"
  },
  "language_info": {
   "codemirror_mode": {
    "name": "ipython",
    "version": 3
   },
   "file_extension": ".py",
   "mimetype": "text/x-python",
   "name": "python",
   "nbconvert_exporter": "python",
   "pygments_lexer": "ipython3",
   "version": "3.12.6"
  }
 },
 "nbformat": 4,
 "nbformat_minor": 2
}
